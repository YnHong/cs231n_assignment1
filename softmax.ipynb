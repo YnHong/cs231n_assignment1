{
 "cells": [
  {
   "cell_type": "markdown",
   "metadata": {},
   "source": [
    "# Softmax exercise\n",
    "\n",
    "*Complete and hand in this completed worksheet (including its outputs and any supporting code outside of the worksheet) with your assignment submission. For more details see the [assignments page](http://vision.stanford.edu/teaching/cs231n/assignments.html) on the course website.*\n",
    "\n",
    "This exercise is analogous to the SVM exercise. You will:\n",
    "\n",
    "- implement a fully-vectorized **loss function** for the Softmax classifier\n",
    "- implement the fully-vectorized expression for its **analytic gradient**\n",
    "- **check your implementation** with numerical gradient\n",
    "- use a validation set to **tune the learning rate and regularization** strength\n",
    "- **optimize** the loss function with **SGD**\n",
    "- **visualize** the final learned weights\n"
   ]
  },
  {
   "cell_type": "code",
   "execution_count": 21,
   "metadata": {
    "collapsed": false
   },
   "outputs": [
    {
     "name": "stdout",
     "output_type": "stream",
     "text": [
      "The autoreload extension is already loaded. To reload it, use:\n",
      "  %reload_ext autoreload\n"
     ]
    },
    {
     "name": "stderr",
     "output_type": "stream",
     "text": [
      "[autoreload of cs231n.classifiers.softmax failed: Traceback (most recent call last):\n",
      "  File \"C:\\Anaconda\\lib\\site-packages\\IPython\\extensions\\autoreload.py\", line 247, in check\n",
      "    superreload(m, reload, self.old_objects)\n",
      "  File \"C:\\Users\\티키타동춘홍선생\\assignment1\\cs231n\\classifiers\\softmax.py\", line 4\n",
      "    def softmax_loss_naive(W,3 X, y, reg):\n",
      "                             ^\n",
      "SyntaxError: invalid syntax\n",
      "]\n"
     ]
    }
   ],
   "source": [
    "import random\n",
    "import numpy as np\n",
    "from cs231n.data_utils import load_CIFAR10\n",
    "import matplotlib.pyplot as plt\n",
    "\n",
    "from __future__ import print_function\n",
    "\n",
    "%matplotlib inline\n",
    "plt.rcParams['figure.figsize'] = (10.0, 8.0) # set default size of plots\n",
    "plt.rcParams['image.interpolation'] = 'nearest'\n",
    "plt.rcParams['image.cmap'] = 'gray'\n",
    "\n",
    "# for auto-reloading extenrnal modules\n",
    "# see http://stackoverflow.com/questions/1907993/autoreload-of-modules-in-ipython\n",
    "%load_ext autoreload\n",
    "%autoreload 2"
   ]
  },
  {
   "cell_type": "code",
   "execution_count": 22,
   "metadata": {
    "collapsed": false
   },
   "outputs": [
    {
     "name": "stdout",
     "output_type": "stream",
     "text": [
      "Clear previously loaded data.\n",
      "Train data shape:  (49000, 3073)\n",
      "Train labels shape:  (49000,)\n",
      "Validation data shape:  (1000, 3073)\n",
      "Validation labels shape:  (1000,)\n",
      "Test data shape:  (1000, 3073)\n",
      "Test labels shape:  (1000,)\n",
      "dev data shape:  (500, 3073)\n",
      "dev labels shape:  (500,)\n"
     ]
    }
   ],
   "source": [
    "def get_CIFAR10_data(num_training=49000, num_validation=1000, num_test=1000, num_dev=500):\n",
    "    \"\"\"\n",
    "    Load the CIFAR-10 dataset from disk and perform preprocessing to prepare\n",
    "    it for the linear classifier. These are the same steps as we used for the\n",
    "    SVM, but condensed to a single function.  \n",
    "    \"\"\"\n",
    "    # Load the raw CIFAR-10 data\n",
    "    cifar10_dir = 'cs231n/datasets/cifar-10-batches-py'\n",
    "    \n",
    "    X_train, y_train, X_test, y_test = load_CIFAR10(cifar10_dir)\n",
    "    \n",
    "    # subsample the data\n",
    "    mask = list(range(num_training, num_training + num_validation))\n",
    "    X_val = X_train[mask]\n",
    "    y_val = y_train[mask]\n",
    "    mask = list(range(num_training))\n",
    "    X_train = X_train[mask]\n",
    "    y_train = y_train[mask]\n",
    "    mask = list(range(num_test))\n",
    "    X_test = X_test[mask]\n",
    "    y_test = y_test[mask]\n",
    "    mask = np.random.choice(num_training, num_dev, replace=False)\n",
    "    X_dev = X_train[mask]\n",
    "    y_dev = y_train[mask]\n",
    "    \n",
    "    # Preprocessing: reshape the image data into rows\n",
    "    X_train = np.reshape(X_train, (X_train.shape[0], -1))\n",
    "    X_val = np.reshape(X_val, (X_val.shape[0], -1))\n",
    "    X_test = np.reshape(X_test, (X_test.shape[0], -1))\n",
    "    X_dev = np.reshape(X_dev, (X_dev.shape[0], -1))\n",
    "    \n",
    "    # Normalize the data: subtract the mean image\n",
    "    mean_image = np.mean(X_train, axis = 0)\n",
    "    X_train -= mean_image\n",
    "    X_val -= mean_image\n",
    "    X_test -= mean_image\n",
    "    X_dev -= mean_image\n",
    "    \n",
    "    # add bias dimension and transform into columns\n",
    "    X_train = np.hstack([X_train, np.ones((X_train.shape[0], 1))])\n",
    "    X_val = np.hstack([X_val, np.ones((X_val.shape[0], 1))])\n",
    "    X_test = np.hstack([X_test, np.ones((X_test.shape[0], 1))])\n",
    "    X_dev = np.hstack([X_dev, np.ones((X_dev.shape[0], 1))])\n",
    "    \n",
    "    return X_train, y_train, X_val, y_val, X_test, y_test, X_dev, y_dev\n",
    "\n",
    "\n",
    "# Cleaning up variables to prevent loading data multiple times (which may cause memory issue)\n",
    "try:\n",
    "    del X_train, y_train\n",
    "    del X_test, y_test\n",
    "    print('Clear previously loaded data.')\n",
    "except:\n",
    "    pass\n",
    "\n",
    "# Invoke the above function to get our data.\n",
    "X_train, y_train, X_val, y_val, X_test, y_test, X_dev, y_dev = get_CIFAR10_data()\n",
    "print('Train data shape: ', X_train.shape)\n",
    "print('Train labels shape: ', y_train.shape)\n",
    "print('Validation data shape: ', X_val.shape)\n",
    "print('Validation labels shape: ', y_val.shape)\n",
    "print('Test data shape: ', X_test.shape)\n",
    "print('Test labels shape: ', y_test.shape)\n",
    "print('dev data shape: ', X_dev.shape)\n",
    "print('dev labels shape: ', y_dev.shape)"
   ]
  },
  {
   "cell_type": "markdown",
   "metadata": {},
   "source": [
    "## Softmax Classifier\n",
    "\n",
    "Your code for this section will all be written inside **cs231n/classifiers/softmax.py**. \n"
   ]
  },
  {
   "cell_type": "code",
   "execution_count": 23,
   "metadata": {
    "collapsed": false
   },
   "outputs": [
    {
     "name": "stdout",
     "output_type": "stream",
     "text": [
      "loss: 2.382959\n",
      "sanity check: 2.302585\n"
     ]
    }
   ],
   "source": [
    "# First implement the naive softmax loss function with nested loops.\n",
    "# Open the file cs231n/classifiers/softmax.py and implement the\n",
    "# softmax_loss_naive function.\n",
    "\n",
    "from cs231n.classifiers.softmax import softmax_loss_naive\n",
    "import time\n",
    "\n",
    "# Generate a random softmax weight matrix and use it to compute the loss.\n",
    "W = np.random.randn(3073, 10) * 0.0001\n",
    "loss, grad = softmax_loss_naive(W, X_dev, y_dev, 0.0)\n",
    "\n",
    "# As a rough sanity check, our loss should be something close to -log(0.1).\n",
    "print('loss: %f' % loss)\n",
    "print('sanity check: %f' % (-np.log(0.1)))"
   ]
  },
  {
   "cell_type": "code",
   "execution_count": 14,
   "metadata": {
    "collapsed": false
   },
   "outputs": [
    {
     "data": {
      "text/plain": [
       "(3073, 10)"
      ]
     },
     "execution_count": 14,
     "metadata": {},
     "output_type": "execute_result"
    }
   ],
   "source": [
    "grad.shape"
   ]
  },
  {
   "cell_type": "markdown",
   "metadata": {},
   "source": [
    "## Inline Question 1:\n",
    "Why do we expect our loss to be close to -log(0.1)? Explain briefly.**\n",
    "\n",
    "**Your answer:** *Fill this in*\n"
   ]
  },
  {
   "cell_type": "code",
   "execution_count": 24,
   "metadata": {
    "collapsed": false
   },
   "outputs": [
    {
     "name": "stdout",
     "output_type": "stream",
     "text": [
      "numerical: -3.847951 analytic: -3.847951, relative error: 2.112164e-08\n",
      "numerical: 1.881887 analytic: 1.881887, relative error: 4.741729e-09\n",
      "numerical: 0.372102 analytic: 0.372102, relative error: 3.645153e-08\n",
      "numerical: 1.427160 analytic: 1.427159, relative error: 6.455039e-08\n",
      "numerical: 0.659359 analytic: 0.659359, relative error: 5.320906e-08\n",
      "numerical: -2.252635 analytic: -2.252635, relative error: 4.196491e-09\n",
      "numerical: -0.554662 analytic: -0.554663, relative error: 3.297555e-08\n",
      "numerical: 2.020791 analytic: 2.020791, relative error: 2.255143e-08\n",
      "numerical: 2.445589 analytic: 2.445589, relative error: 6.601289e-09\n",
      "numerical: -0.431721 analytic: -0.431721, relative error: 3.133701e-08\n",
      "With Regularization\n",
      "numerical: 0.540203 analytic: 0.535735, relative error: 4.152945e-03\n",
      "numerical: -3.656195 analytic: -3.661892, relative error: 7.784919e-04\n",
      "numerical: -6.148016 analytic: -6.151570, relative error: 2.888779e-04\n",
      "numerical: 1.951369 analytic: 1.950102, relative error: 3.246963e-04\n",
      "numerical: 1.347900 analytic: 1.351393, relative error: 1.294031e-03\n",
      "numerical: -0.506175 analytic: -0.510299, relative error: 4.056692e-03\n",
      "numerical: -1.593256 analytic: -1.591718, relative error: 4.830204e-04\n",
      "numerical: -4.512209 analytic: -4.513080, relative error: 9.654033e-05\n",
      "numerical: 0.993360 analytic: 0.997897, relative error: 2.278485e-03\n",
      "numerical: 1.361789 analytic: 1.367865, relative error: 2.225959e-03\n"
     ]
    }
   ],
   "source": [
    "# Complete the implementation of softmax_loss_naive and implement a (naive)\n",
    "# version of the gradient that uses nested loops.\n",
    "loss, grad = softmax_loss_naive(W, X_dev, y_dev, 0.0)\n",
    "\n",
    "# As we did for the SVM, use numeric gradient checking as a debugging tool.\n",
    "# The numeric gradient should be close to the analytic gradient.\n",
    "from cs231n.gradient_check import grad_check_sparse\n",
    "f = lambda w: softmax_loss_naive(w, X_dev, y_dev, 0.0)[0]\n",
    "grad_numerical = grad_check_sparse(f, W, grad, 10)\n",
    "\n",
    "print(\"With Regularization\")\n",
    "# similar to SVM case, do another gradient check with regularization\n",
    "loss, grad = softmax_loss_naive(W, X_dev, y_dev, 5e1)\n",
    "f = lambda w: softmax_loss_naive(w, X_dev, y_dev, 5e1)[0]\n",
    "grad_numerical = grad_check_sparse(f, W, grad, 10)"
   ]
  },
  {
   "cell_type": "code",
   "execution_count": 25,
   "metadata": {
    "collapsed": false
   },
   "outputs": [
    {
     "name": "stdout",
     "output_type": "stream",
     "text": [
      "naive loss: 2.382959e+00 computed in 0.292206s\n",
      "vectorized loss: 2.382959e+00 computed in 0.042029s\n",
      "Loss difference: 0.000000\n",
      "Gradient difference: 0.000000\n"
     ]
    }
   ],
   "source": [
    "# Now that we have a naive implementation of the softmax loss function and its gradient,\n",
    "# implement a vectorized version in softmax_loss_vectorized.\n",
    "# The two versions should compute the same results, but the vectorized version should be\n",
    "# much faster.\n",
    "tic = time.time()\n",
    "loss_naive, grad_naive = softmax_loss_naive(W, X_dev, y_dev, 0.000005)\n",
    "toc = time.time()\n",
    "print('naive loss: %e computed in %fs' % (loss_naive, toc - tic))\n",
    "\n",
    "from cs231n.classifiers.softmax import softmax_loss_vectorized\n",
    "tic = time.time()\n",
    "loss_vectorized, grad_vectorized = softmax_loss_vectorized(W, X_dev, y_dev, 0.000005)\n",
    "toc = time.time()\n",
    "print('vectorized loss: %e computed in %fs' % (loss_vectorized, toc - tic))\n",
    "\n",
    "# As we did for the SVM, we use the Frobenius norm to compare the two versions\n",
    "# of the gradient.\n",
    "grad_difference = np.linalg.norm(grad_naive - grad_vectorized, ord='fro')\n",
    "print('Loss difference: %f' % np.abs(loss_naive - loss_vectorized))\n",
    "print('Gradient difference: %f' % grad_difference)"
   ]
  },
  {
   "cell_type": "code",
   "execution_count": 26,
   "metadata": {
    "collapsed": false
   },
   "outputs": [
    {
     "name": "stdout",
     "output_type": "stream",
     "text": [
      "lr 1.000000e-07 reg 2.500000e+04 train accuracy: 0.242184 val accuracy: 0.235000\n",
      "lr 1.000000e-07 reg 5.000000e+04 train accuracy: 0.286592 val accuracy: 0.287000\n",
      "lr 5.000000e-07 reg 2.500000e+04 train accuracy: 0.346531 val accuracy: 0.358000\n",
      "lr 5.000000e-07 reg 5.000000e+04 train accuracy: 0.326898 val accuracy: 0.339000\n",
      "best validation accuracy achieved during cross-validation: 0.358000\n"
     ]
    }
   ],
   "source": [
    "# Use the validation set to tune hyperparameters (regularization strength and\n",
    "# learning rate). You should experiment with different ranges for the learning\n",
    "# rates and regularization strengths; if you are careful you should be able to\n",
    "# get a classification accuracy of over 0.35 on the validation set.\n",
    "from cs231n.classifiers import Softmax\n",
    "results = {}\n",
    "best_val = -1\n",
    "best_softmax = None\n",
    "learning_rates = [1e-7, 5e-7]\n",
    "regularization_strengths = [2.5e4, 5e4]\n",
    "\n",
    "################################################################################\n",
    "# TODO:                                                                        #\n",
    "# Use the validation set to set the learning rate and regularization strength. #\n",
    "# This should be identical to the validation that you did for the SVM; save    #\n",
    "# the best trained softmax classifer in best_softmax.                          #\n",
    "################################################################################\n",
    "for l in learning_rates:\n",
    "    for r in regularization_strengths:\n",
    "        sm = Softmax() \n",
    "        loss_hist = sm.train(X_train, y_train, learning_rate= l, reg= r, num_iters=400)\n",
    "        y_train_pred = sm.predict(X_train)\n",
    "        training_accuracy = np.mean(y_train == y_train_pred)\n",
    "        y_val_pred = sm.predict(X_val)\n",
    "        validation_accuracy = np.mean(y_val == y_val_pred)\n",
    "        results[(l, r)] = (training_accuracy, validation_accuracy)\n",
    "        if validation_accuracy > best_val:\n",
    "            best_val = validation_accuracy\n",
    "            best_softmax = sm\n",
    "################################################################################\n",
    "#                              END OF YOUR CODE                                #\n",
    "################################################################################\n",
    "    \n",
    "# Print out results.\n",
    "for lr, reg in sorted(results):\n",
    "    train_accuracy, val_accuracy = results[(lr, reg)]\n",
    "    print('lr %e reg %e train accuracy: %f val accuracy: %f' % (\n",
    "                lr, reg, train_accuracy, val_accuracy))\n",
    "    \n",
    "print('best validation accuracy achieved during cross-validation: %f' % best_val)"
   ]
  },
  {
   "cell_type": "code",
   "execution_count": 27,
   "metadata": {
    "collapsed": false
   },
   "outputs": [
    {
     "name": "stdout",
     "output_type": "stream",
     "text": [
      "softmax on raw pixels final test set accuracy: 0.351000\n"
     ]
    }
   ],
   "source": [
    "# evaluate on test set\n",
    "# Evaluate the best softmax on test set\n",
    "y_test_pred = best_softmax.predict(X_test)\n",
    "test_accuracy = np.mean(y_test == y_test_pred)\n",
    "print('softmax on raw pixels final test set accuracy: %f' % (test_accuracy, ))"
   ]
  },
  {
   "cell_type": "markdown",
   "metadata": {},
   "source": [
    "**Inline Question** - *True or False*\n",
    "\n",
    "It's possible to add a new datapoint to a training set that would leave the SVM loss unchanged, but this is not the case with the Softmax classifier loss.\n",
    "\n",
    "*Your answer*:\n",
    "\n",
    "*Your explanation*:"
   ]
  },
  {
   "cell_type": "code",
   "execution_count": 29,
   "metadata": {
    "collapsed": false
   },
   "outputs": [
    {
     "data": {
      "image/png": "iVBORw0KGgoAAAANSUhEUgAAAlMAAAF8CAYAAADrUz6WAAAABHNCSVQICAgIfAhkiAAAAAlwSFlz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\nRU5ErkJggg==\n",
      "text/plain": [
       "<matplotlib.figure.Figure at 0x2381e3b278>"
      ]
     },
     "metadata": {},
     "output_type": "display_data"
    }
   ],
   "source": [
    "# Visualize the learned weights for each class\n",
    "w = best_softmax.W[:-1,:] # strip out the bias\n",
    "w = w.reshape(32, 32, 3, 10)\n",
    "\n",
    "w_min, w_max = np.min(w), np.max(w)\n",
    "\n",
    "classes = ['plane', 'car', 'bird', 'cat', 'deer', 'dog', 'frog', 'horse', 'ship', 'truck']\n",
    "for i in range(10):\n",
    "    plt.subplot(2, 5, i + 1)\n",
    "    \n",
    "    # Rescale the weights to be between 0 and 255\n",
    "    wimg = 255.0 * (w[:, :, :, i].squeeze() - w_min) / (w_max - w_min)\n",
    "    plt.imshow(wimg.astype('uint8'))\n",
    "    plt.axis('off')\n",
    "    plt.title(classes[i])"
   ]
  }
